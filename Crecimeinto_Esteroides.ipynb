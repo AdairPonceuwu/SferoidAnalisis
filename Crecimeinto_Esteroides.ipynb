{
 "cells": [
  {
   "cell_type": "markdown",
   "id": "c7c8de02-8a28-4ab6-8d68-924beba2de4a",
   "metadata": {},
   "source": [
    "# DECLARAMOS LAS LIBRERIAS #"
   ]
  },
  {
   "cell_type": "code",
   "execution_count": null,
   "id": "b98bdf12-8308-4941-b537-3f169baeff29",
   "metadata": {},
   "outputs": [],
   "source": [
    "import numpy as np\n",
    "import matplotlib.pyplot as plt\n",
    "from mpl_toolkits.mplot3d import Axes3D\n",
    "import pandas as pd\n",
    "from sklearn.neighbors import KernelDensity"
   ]
  },
  {
   "cell_type": "markdown",
   "id": "59e477fd",
   "metadata": {},
   "source": [
    "# CARGAMOS LOS PRUEBASQUE SON CORRECTOS #"
   ]
  },
  {
   "cell_type": "code",
   "execution_count": null,
   "id": "9f642351",
   "metadata": {},
   "outputs": [],
   "source": [
    "df = pd.read_csv('experimental_data.csv')\n",
    "df.shape"
   ]
  },
  {
   "cell_type": "code",
   "execution_count": null,
   "id": "86544233",
   "metadata": {},
   "outputs": [],
   "source": [
    "X = df.iloc[:, 1:15] "
   ]
  },
  {
   "cell_type": "code",
   "execution_count": null,
   "id": "8b1f742d",
   "metadata": {},
   "outputs": [],
   "source": [
    "X.head()"
   ]
  },
  {
   "cell_type": "markdown",
   "id": "07f8b845",
   "metadata": {},
   "source": [
    "# UTILIZAMOS KERNEL DENSITY"
   ]
  },
  {
   "cell_type": "markdown",
   "id": "78e32b82",
   "metadata": {},
   "source": [
    "Para estimar la densidad de los datos y luego generar nuevas muestras a partir de esta densidad."
   ]
  },
  {
   "cell_type": "code",
   "execution_count": null,
   "id": "0cffcd20",
   "metadata": {},
   "outputs": [],
   "source": [
    "kde = KernelDensity(kernel='gaussian', bandwidth=1.0).fit(X)\n",
    "\n",
    "new_samples = kde.sample(5)\n",
    "\n",
    "\n",
    "df_new_samples = pd.DataFrame(new_samples, columns=X.columns)\n",
    "\n",
    "df_new_samples.head()"
   ]
  },
  {
   "cell_type": "code",
   "execution_count": null,
   "id": "122e77ba",
   "metadata": {},
   "outputs": [],
   "source": [
    "columns_largos = ['Largo_24','Largo_48','Largo_72','Largo_96','Largo_120', 'Largo_144', 'Largo_168']\n",
    "columns_anchos = ['Ancho_24','Ancho_48','Ancho_72','Ancho_96','Ancho_120', 'Ancho_144', 'Ancho_168']"
   ]
  },
  {
   "cell_type": "markdown",
   "id": "cf9ea83c-2ef1-4116-8066-c726cc063781",
   "metadata": {},
   "source": [
    "# CALCULAMOS LOS VALORES PARA CADA INTERVALO DE TIEMPO "
   ]
  },
  {
   "cell_type": "code",
   "execution_count": null,
   "id": "9a1d9d87-50e2-4844-86a7-1dda6ab6db59",
   "metadata": {},
   "outputs": [],
   "source": [
    "# Datos iniciales\n",
    "#largo_inicial = 1  # en micrómetros\n",
    "#ancho_inicial = 1  # en micrómetros\n",
    "\n",
    "# Tasa de crecimiento específica (supongamos una tasa de crecimiento)\n",
    "#mu_largo = 0.0410  # puedes ajustar este valor según tus datos experimentales\n",
    "#mu_ancho = 0.0409  # puedes ajustar este valor según tus datos experimentales\n",
    "\n",
    "# Tiempos de medición (en horas)\n",
    "tiempos = np.array([24, 48, 72, 96, 120, 144, 168])\n",
    "\n",
    "# Función de crecimiento exponencial\n",
    "def crecimiento_exponencial(inicial, mu, tiempos):\n",
    "    return inicial * np.exp(mu * tiempos)\n",
    "\n",
    "# Calcular largos y anchos en cada tiempo\n",
    "#largos = crecimiento_exponencial(largo_inicial, mu_largo, tiempos)\n",
    "#anchos = crecimiento_exponencial(ancho_inicial, mu_ancho, tiempos)\n",
    "\n",
    "largos = df_new_samples[columns_largos].iloc[0].values\n",
    "anchos = df_new_samples[columns_anchos].iloc[0].values\n",
    "\n",
    "# Graficar los resultados\n",
    "plt.figure(figsize=(12, 6))\n",
    "\n",
    "# Gráfico para largos\n",
    "plt.subplot(1, 2, 1)\n",
    "plt.plot(tiempos, largos, 'o-', label='Largo')\n",
    "plt.xlabel('Tiempo (horas)')\n",
    "plt.ylabel('Largo (micrómetros)')\n",
    "plt.title('Crecimiento del largo en la muestra')\n",
    "plt.legend()\n",
    "plt.grid(True)\n",
    "\n",
    "# Gráfico para anchos\n",
    "plt.subplot(1, 2, 2)\n",
    "plt.plot(tiempos, anchos, 'o-', label='Ancho')\n",
    "plt.xlabel('Tiempo (horas)')\n",
    "plt.ylabel('Ancho (micrómetros)')\n",
    "plt.title('Crecimiento del ancho en la muestra')\n",
    "plt.legend()\n",
    "plt.grid(True)\n",
    "\n",
    "plt.tight_layout()\n",
    "plt.show()\n",
    "\n",
    "# Mostrar resultados\n",
    "for dimensiones in list(zip(tiempos,largos, anchos)):\n",
    "    tiempo, largo, ancho = dimensiones\n",
    "    print(f\"Tiempo: {tiempo} horas -> Largo: {largo:.2f} µm, Ancho: {ancho:.2f} µm\")\n"
   ]
  },
  {
   "cell_type": "markdown",
   "id": "3fcc3dd3-efb3-4819-9a09-8bedcdcafa6b",
   "metadata": {},
   "source": [
    "# DEFINIMOS LOS PARAMETROS PARA LAS GRÁFICAS"
   ]
  },
  {
   "cell_type": "code",
   "execution_count": null,
   "id": "e4f5d364-6da0-4d16-9c9c-3bcd4e95593f",
   "metadata": {},
   "outputs": [],
   "source": [
    "# Definir los parámetros de los esferoides\n",
    "# Datos iniciales\n",
    "c1 = 956.6 # Distancia desde el centro hasta el polo del primer esferoide(Largo)\n",
    "a1 = 939.07 # Semieje ecuatorial del primer esferoide(Ancho)\n",
    "\n",
    "c2 = largos[6]# Distancia desde el centro hasta el polo del segundo esferoide(Largo)\n",
    "a2 = anchos[6]# Semieje ecuatorial del segundo esferoide(Ancho)"
   ]
  },
  {
   "cell_type": "code",
   "execution_count": null,
   "id": "427914cb-01a1-434d-b7b9-ab8e7aa715e2",
   "metadata": {},
   "outputs": [],
   "source": [
    "# Crear valores para los ángulos phi y theta\n",
    "phi = np.linspace(0, 2 * np.pi, 100)\n",
    "theta = np.linspace(0, np.pi, 100)"
   ]
  },
  {
   "cell_type": "code",
   "execution_count": null,
   "id": "7c682547-bf5d-4649-998c-55b77a277daf",
   "metadata": {},
   "outputs": [],
   "source": [
    "# Calcular las coordenadas cartesianas de los dos esferoides\n",
    "x1 = a1 * np.outer(np.cos(phi), np.sin(theta))\n",
    "y1 = a1 * np.outer(np.sin(phi), np.sin(theta))\n",
    "z1 = c1 * np.outer(np.ones(np.size(phi)), np.cos(theta))\n",
    "\n",
    "x2 = a2 * np.outer(np.cos(phi), np.sin(theta))\n",
    "y2 = a2 * np.outer(np.sin(phi), np.sin(theta))\n",
    "z2 = c2 * np.outer(np.ones(np.size(phi)), np.cos(theta))"
   ]
  },
  {
   "cell_type": "markdown",
   "id": "25a98f18-d770-432e-bd87-54fecb0c282e",
   "metadata": {},
   "source": [
    "# GRAFICO UNO SOBRE OTRO"
   ]
  },
  {
   "cell_type": "code",
   "execution_count": null,
   "id": "b3570633-06c8-4050-9ce2-7bec384a7825",
   "metadata": {},
   "outputs": [],
   "source": [
    "# Crear la figura y los ejes 3D\n",
    "fig = plt.figure()\n",
    "ax = fig.add_subplot(111, projection='3d')\n",
    "\n",
    "# Graficar los dos esferoides\n",
    "ax.plot_surface(x1, y1, z1, color='b', alpha=0.5)\n",
    "ax.plot_surface(x2, y2, z2, color='r', alpha=0.5)\n",
    "\n",
    "# Ajustar la relación de aspecto de los ejes\n",
    "ax.set_aspect('auto')\n",
    "ax.set_title('168hrs F2 Y Prediccion')\n",
    "\n",
    "# Mostrar el gráfico\n",
    "plt.show()\n"
   ]
  },
  {
   "cell_type": "markdown",
   "id": "f39af2c2-e803-449e-aa2c-82bee4c1d5e9",
   "metadata": {},
   "source": [
    "# GRAFICO INICIO-FINAL"
   ]
  },
  {
   "cell_type": "code",
   "execution_count": null,
   "id": "cbcd54f4-888c-45e0-9212-3eb0c08361d0",
   "metadata": {},
   "outputs": [],
   "source": [
    "#Encontrar limites inferiores y maximos\n",
    "max_lim = max(np.max(x1), np.max(y1), np.max(z1), np.max(x2), np.max(y2), np.max(z2))\n",
    "min_lim = min(np.min(x1), np.min(y1), np.min(z1), np.min(x2), np.min(y2), np.min(z2))\n",
    "\n",
    "# Crear las figuras y los ejes 3D\n",
    "fig = plt.figure(figsize=(12, 5))\n",
    "\n",
    "# Subgráfico 1\n",
    "ax1 = fig.add_subplot(121, projection='3d')\n",
    "ax1.plot_surface(x1, y1, z1, color='b', alpha=0.5)\n",
    "ax1.set_title('168 Hrs')\n",
    "ax1.set_xlim(min_lim, max_lim)\n",
    "ax1.set_ylim(min_lim, max_lim)\n",
    "ax1.set_zlim(min_lim, max_lim)\n",
    "\n",
    "\n",
    "# Subgráfico 2\n",
    "ax2 = fig.add_subplot(122, projection='3d')\n",
    "ax2.plot_surface(x2, y2, z2, color='r', alpha=0.5)\n",
    "ax2.set_title('168 Hrs')\n",
    "ax2.set_xlim(min_lim, max_lim)\n",
    "ax2.set_ylim(min_lim, max_lim)\n",
    "ax2.set_zlim(min_lim, max_lim)\n",
    "\n",
    "# Mostrar los gráficos\n",
    "plt.show()"
   ]
  },
  {
   "cell_type": "markdown",
   "id": "5d19f6f5-3830-4f69-b821-1fe3861aab3b",
   "metadata": {},
   "source": [
    "# GRAFICA DE INTERPOLADO 168"
   ]
  },
  {
   "cell_type": "markdown",
   "id": "e699227e-28d4-4445-adde-b7b0d8bec0da",
   "metadata": {},
   "source": [
    "En el análisis numérico, se denomina interpolación a obtención de nuevos puntos partiendo del conocimiento de un conjunto de puntos."
   ]
  },
  {
   "cell_type": "code",
   "execution_count": null,
   "id": "daaa9c58-e24f-4bce-bb59-66365042d707",
   "metadata": {},
   "outputs": [],
   "source": [
    "tiempos = np.array([24, 168])  # tiempos en horas\n",
    "medidas_1 = np.array([a1, c1])  # largo 1 en micrómetros\n",
    "medidas_2 = np.array([a2, c2])  # largo 2 en micrómetros\n",
    "\n",
    "# Interpolación lineal para encontrar largos intermedios\n",
    "tiempos_intermedios = np.array([24, 48, 72, 96, 120, 144, 168])  # tiempos intermedios\n",
    "\n",
    "# Funciones de interpolación lineal\n",
    "interp_medidas_1 = np.interp(tiempos_intermedios, tiempos, medidas_1)\n",
    "interp_medidas_2 = np.interp(tiempos_intermedios, tiempos, medidas_2)\n",
    "\n",
    "# Graficar los resultados\n",
    "plt.figure(figsize=(10, 6))\n",
    "plt.plot(tiempos, medidas_1, 'o', label='168hrs F2')\n",
    "plt.plot(tiempos, medidas_2, 'o', label='168hrs Prediccion')\n",
    "plt.plot(tiempos_intermedios, interp_medidas_1, '-', label='168hrs(F2) interpolado')\n",
    "plt.plot(tiempos_intermedios, interp_medidas_2, '-', label='168hrs(Prediccion) interpolado')\n",
    "plt.xlabel('Tiempo (horas)')\n",
    "plt.ylabel('Medidas (micrómetros)')\n",
    "plt.title('Crecimiento de esteroides en la muestra')\n",
    "plt.legend()\n",
    "plt.grid(True)\n",
    "plt.show()\n",
    "\n",
    "# Mostrar resultados\n",
    "for dimensiones in list(zip(tiempos,interp_medidas_1, interp_medidas_2)):\n",
    "    tiempo, largo, ancho = dimensiones\n",
    "    print(f\"Tiempo: {tiempo} horas -> Largo: {largo:.2f} µm, Ancho: {ancho:.2f} µm\")\n",
    "    "
   ]
  },
  {
   "cell_type": "code",
   "execution_count": null,
   "id": "83fc5f75-f5da-4c33-a250-5767e1fb2827",
   "metadata": {},
   "outputs": [],
   "source": []
  }
 ],
 "metadata": {
  "kernelspec": {
   "display_name": "Python 3 (ipykernel)",
   "language": "python",
   "name": "python3"
  },
  "language_info": {
   "codemirror_mode": {
    "name": "ipython",
    "version": 3
   },
   "file_extension": ".py",
   "mimetype": "text/x-python",
   "name": "python",
   "nbconvert_exporter": "python",
   "pygments_lexer": "ipython3",
   "version": "3.11.7"
  }
 },
 "nbformat": 4,
 "nbformat_minor": 5
}
